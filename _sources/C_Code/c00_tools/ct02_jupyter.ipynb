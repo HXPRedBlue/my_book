{
 "cells": [
  {
   "cell_type": "code",
   "execution_count": 1,
   "source": [
    "# jupyter\n",
    "# 0. 概述\n",
    "## 0.1 参考资料\n",
    "[jupyter 官网](https://jupyter.org/index.html)"
   ],
   "outputs": [
    {
     "output_type": "error",
     "ename": "SyntaxError",
     "evalue": "invalid syntax (<ipython-input-1-c4881271ed4a>, line 4)",
     "traceback": [
      "\u001b[0;36m  File \u001b[0;32m\"<ipython-input-1-c4881271ed4a>\"\u001b[0;36m, line \u001b[0;32m4\u001b[0m\n\u001b[0;31m    [jupyter 官网](https://jupyter.org/index.html)\u001b[0m\n\u001b[0m             ^\u001b[0m\n\u001b[0;31mSyntaxError\u001b[0m\u001b[0;31m:\u001b[0m invalid syntax\n"
     ]
    }
   ],
   "metadata": {}
  }
 ],
 "metadata": {
  "orig_nbformat": 4,
  "language_info": {
   "name": "python",
   "version": "3.8.11",
   "mimetype": "text/x-python",
   "codemirror_mode": {
    "name": "ipython",
    "version": 3
   },
   "pygments_lexer": "ipython3",
   "nbconvert_exporter": "python",
   "file_extension": ".py"
  },
  "kernelspec": {
   "name": "python3",
   "display_name": "Python 3.8.11 64-bit ('object_dete': conda)"
  },
  "interpreter": {
   "hash": "fdc8d2c98822cfb491cc498818e796b73550c3ba93fd1bcfdf85efa3ded45fc6"
  }
 },
 "nbformat": 4,
 "nbformat_minor": 2
}