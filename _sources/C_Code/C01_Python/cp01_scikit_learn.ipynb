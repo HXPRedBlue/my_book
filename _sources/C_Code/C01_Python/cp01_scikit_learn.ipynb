{
 "cells": [
  {
   "cell_type": "markdown",
   "source": [
    "# scikit_learn\n"
   ],
   "metadata": {}
  },
  {
   "cell_type": "code",
   "execution_count": null,
   "source": [],
   "outputs": [],
   "metadata": {}
  }
 ],
 "metadata": {
  "orig_nbformat": 4,
  "language_info": {
   "name": "python",
   "version": "3.8.11"
  },
  "kernelspec": {
   "name": "python3",
   "display_name": "Python 3.8.11 64-bit ('object_dete': conda)"
  },
  "interpreter": {
   "hash": "fdc8d2c98822cfb491cc498818e796b73550c3ba93fd1bcfdf85efa3ded45fc6"
  }
 },
 "nbformat": 4,
 "nbformat_minor": 2
}