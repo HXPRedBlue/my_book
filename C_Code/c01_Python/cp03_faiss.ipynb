{
 "cells": [
  {
   "cell_type": "markdown",
   "source": [
    "# Faiss\n",
    "# 1. 参考资料\n",
    "* [官方github](https://github.com/facebookresearch/faiss)\n"
   ],
   "metadata": {}
  }
 ],
 "metadata": {
  "orig_nbformat": 4,
  "language_info": {
   "name": "python"
  }
 },
 "nbformat": 4,
 "nbformat_minor": 2
}