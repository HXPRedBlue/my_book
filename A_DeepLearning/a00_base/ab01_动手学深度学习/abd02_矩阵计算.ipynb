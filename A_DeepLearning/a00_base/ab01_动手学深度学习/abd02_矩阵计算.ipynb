{
 "cells": [
  {
   "cell_type": "markdown",
   "source": [
    "# 矩阵计算\n",
    "\n",
    "## 标量导数\n",
    "\n",
    "导数是切线的斜率\n",
    "\n",
    "## 梯度\n",
    "\n"
   ],
   "metadata": {}
  }
 ],
 "metadata": {
  "orig_nbformat": 4,
  "language_info": {
   "name": "python"
  }
 },
 "nbformat": 4,
 "nbformat_minor": 2
}