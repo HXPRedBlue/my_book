{
 "cells": [
  {
   "cell_type": "markdown",
   "source": [
    "# scikit_learn\n",
    "# 0 概述\n",
    "## 0.1 参考资料\n",
    "* [scikit-learn 官网](https://scikit-learn.org/stable/)"
   ],
   "metadata": {}
  },
  {
   "cell_type": "code",
   "execution_count": 14,
   "source": [
    "from sklearn.feature_extraction.text import TfidfVectorizer\n",
    "corpus = [\n",
    "     'This is the first document.',\n",
    "     'This document is the second document.',\n",
    "     'And this is the third one.',\n",
    "     'Is this the first document?',\n",
    " ]\n",
    "vectorizer = TfidfVectorizer(analyzer='word', min_df=0, stop_words='english')\n",
    "X = vectorizer.fit_transform(corpus)\n",
    "print(vectorizer.get_feature_names()) \n",
    "print(X.shape)\n",
    "print(X)"
   ],
   "outputs": [
    {
     "output_type": "stream",
     "name": "stdout",
     "text": [
      "['document', 'second']\n",
      "(4, 2)\n",
      "  (0, 0)\t1.0\n",
      "  (1, 1)\t0.6166684570284895\n",
      "  (1, 0)\t0.78722297610404\n",
      "  (3, 0)\t1.0\n"
     ]
    }
   ],
   "metadata": {}
  },
  {
   "cell_type": "markdown",
   "source": [
    "vectorizer.get_feature_names() : 提取的关键词\n",
    "X: 数据依据关键词生成的特征向量矩阵"
   ],
   "metadata": {}
  },
  {
   "cell_type": "code",
   "execution_count": 16,
   "source": [
    "from sklearn.metrics.pairwise import linear_kernel\n",
    "\n",
    "k = [\n",
    "    [1, 2],\n",
    "    [2, 3]]\n",
    "kt = linear_kernel(k, k)\n",
    "print(kt)"
   ],
   "outputs": [
    {
     "output_type": "stream",
     "name": "stdout",
     "text": [
      "[[5.]]\n"
     ]
    }
   ],
   "metadata": {}
  }
 ],
 "metadata": {
  "orig_nbformat": 4,
  "kernelspec": {
   "name": "python3",
   "display_name": "Python 3",
   "language": "python"
  },
  "interpreter": {
   "hash": "fdc8d2c98822cfb491cc498818e796b73550c3ba93fd1bcfdf85efa3ded45fc6"
  },
  "language_info": {
   "name": "python",
   "version": "3.6.13",
   "mimetype": "text/x-python",
   "codemirror_mode": {
    "name": "ipython",
    "version": 3
   },
   "pygments_lexer": "ipython3",
   "nbconvert_exporter": "python",
   "file_extension": ".py"
  }
 },
 "nbformat": 4,
 "nbformat_minor": 2
}